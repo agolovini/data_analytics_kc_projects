{
 "cells": [
  {
   "cell_type": "markdown",
   "id": "20ca823c",
   "metadata": {},
   "source": [
    "   # 🚕 New-York Taxi Dataset 🚕\n",
    "***\n",
    "   #### owner: Golovin Alexey"
   ]
  },
  {
   "cell_type": "code",
   "execution_count": 3,
   "id": "a6a7f66c",
   "metadata": {},
   "outputs": [],
   "source": [
    "import pandas as pd"
   ]
  },
  {
   "cell_type": "code",
   "execution_count": 2,
   "id": "48968fe5",
   "metadata": {},
   "outputs": [],
   "source": [
    "file = './taxi_nyc.csv'"
   ]
  },
  {
   "cell_type": "code",
   "execution_count": 5,
   "id": "db2c685c",
   "metadata": {},
   "outputs": [],
   "source": [
    "df = pd.read_csv(file)"
   ]
  },
  {
   "cell_type": "code",
   "execution_count": 10,
   "id": "abdf1a76",
   "metadata": {},
   "outputs": [
    {
     "data": {
      "text/html": [
       "<div>\n",
       "<style scoped>\n",
       "    .dataframe tbody tr th:only-of-type {\n",
       "        vertical-align: middle;\n",
       "    }\n",
       "\n",
       "    .dataframe tbody tr th {\n",
       "        vertical-align: top;\n",
       "    }\n",
       "\n",
       "    .dataframe thead th {\n",
       "        text-align: right;\n",
       "    }\n",
       "</style>\n",
       "<table border=\"1\" class=\"dataframe\">\n",
       "  <thead>\n",
       "    <tr style=\"text-align: right;\">\n",
       "      <th></th>\n",
       "      <th>pickup_dt</th>\n",
       "      <th>pickup_month</th>\n",
       "      <th>borough</th>\n",
       "      <th>pickups</th>\n",
       "      <th>hday</th>\n",
       "      <th>spd</th>\n",
       "      <th>vsb</th>\n",
       "      <th>temp</th>\n",
       "      <th>dewp</th>\n",
       "      <th>slp</th>\n",
       "      <th>pcp 01</th>\n",
       "      <th>pcp 06</th>\n",
       "      <th>pcp 24</th>\n",
       "      <th>sd</th>\n",
       "    </tr>\n",
       "  </thead>\n",
       "  <tbody>\n",
       "    <tr>\n",
       "      <th>0</th>\n",
       "      <td>2015-01-01 01:00:00</td>\n",
       "      <td>Jan</td>\n",
       "      <td>Bronx</td>\n",
       "      <td>152</td>\n",
       "      <td>Y</td>\n",
       "      <td>5.0</td>\n",
       "      <td>10.0</td>\n",
       "      <td>30.0</td>\n",
       "      <td>7.0</td>\n",
       "      <td>1023.5</td>\n",
       "      <td>0.0</td>\n",
       "      <td>0.0</td>\n",
       "      <td>0.0</td>\n",
       "      <td>0.0</td>\n",
       "    </tr>\n",
       "    <tr>\n",
       "      <th>1</th>\n",
       "      <td>2015-01-01 01:00:00</td>\n",
       "      <td>Jan</td>\n",
       "      <td>Brooklyn</td>\n",
       "      <td>1519</td>\n",
       "      <td>Y</td>\n",
       "      <td>5.0</td>\n",
       "      <td>10.0</td>\n",
       "      <td>30.0</td>\n",
       "      <td>7.0</td>\n",
       "      <td>1023.5</td>\n",
       "      <td>0.0</td>\n",
       "      <td>0.0</td>\n",
       "      <td>0.0</td>\n",
       "      <td>0.0</td>\n",
       "    </tr>\n",
       "    <tr>\n",
       "      <th>2</th>\n",
       "      <td>2015-01-01 01:00:00</td>\n",
       "      <td>Jan</td>\n",
       "      <td>EWR</td>\n",
       "      <td>0</td>\n",
       "      <td>Y</td>\n",
       "      <td>5.0</td>\n",
       "      <td>10.0</td>\n",
       "      <td>30.0</td>\n",
       "      <td>7.0</td>\n",
       "      <td>1023.5</td>\n",
       "      <td>0.0</td>\n",
       "      <td>0.0</td>\n",
       "      <td>0.0</td>\n",
       "      <td>0.0</td>\n",
       "    </tr>\n",
       "  </tbody>\n",
       "</table>\n",
       "</div>"
      ],
      "text/plain": [
       "             pickup_dt pickup_month   borough  pickups hday  spd   vsb  temp  \\\n",
       "0  2015-01-01 01:00:00          Jan     Bronx      152    Y  5.0  10.0  30.0   \n",
       "1  2015-01-01 01:00:00          Jan  Brooklyn     1519    Y  5.0  10.0  30.0   \n",
       "2  2015-01-01 01:00:00          Jan       EWR        0    Y  5.0  10.0  30.0   \n",
       "\n",
       "   dewp     slp  pcp 01  pcp 06  pcp 24   sd  \n",
       "0   7.0  1023.5     0.0     0.0     0.0  0.0  \n",
       "1   7.0  1023.5     0.0     0.0     0.0  0.0  \n",
       "2   7.0  1023.5     0.0     0.0     0.0  0.0  "
      ]
     },
     "execution_count": 10,
     "metadata": {},
     "output_type": "execute_result"
    }
   ],
   "source": [
    "df.head(3)"
   ]
  },
  {
   "cell_type": "code",
   "execution_count": 12,
   "id": "d62a68be",
   "metadata": {},
   "outputs": [
    {
     "data": {
      "text/plain": [
       "Index(['pickup_dt', 'pickup_month', 'borough', 'pickups', 'hday', 'spd', 'vsb',\n",
       "       'temp', 'dewp', 'slp', 'pcp 01', 'pcp 06', 'pcp 24', 'sd'],\n",
       "      dtype='object')"
      ]
     },
     "execution_count": 12,
     "metadata": {},
     "output_type": "execute_result"
    }
   ],
   "source": [
    "df.columns  # .columns shows a column names"
   ]
  },
  {
   "cell_type": "markdown",
   "id": "5186e9f8",
   "metadata": {},
   "source": [
    "Fields of dataset: "
   ]
  },
  {
   "cell_type": "markdown",
   "id": "4f522534",
   "metadata": {},
   "source": [
    "    pickup_dt – period with accuracy up to one hour.  \n",
    "    pickup_month – month \n",
    "    borough – district of NY, from wich the order was made (5 districts + airport)\n",
    "    pickups – number of trips (hour)\n",
    "    hday – holidat or not; Y/N\n",
    "    spd – speed of wind\n",
    "    vsb –  visibility\n",
    "    temp – temperature F\n",
    "    dewp – dew point\n",
    "    slp – preasure\n",
    "    pcp_01 – precipitation amount per an hour\n",
    "    pcp_06 – precipitation amount per an 6 hours\n",
    "    pcp_24 – precipitation amount per an 24 hours\n",
    "    sd – snow level - inches"
   ]
  },
  {
   "cell_type": "markdown",
   "id": "09128652",
   "metadata": {},
   "source": [
    "Checking how many rows and columns in dataset:"
   ]
  },
  {
   "cell_type": "code",
   "execution_count": 8,
   "id": "e3b3ace8",
   "metadata": {},
   "outputs": [
    {
     "data": {
      "text/plain": [
       "(29101, 14)"
      ]
     },
     "execution_count": 8,
     "metadata": {},
     "output_type": "execute_result"
    }
   ],
   "source": [
    "df.shape  # .shape argumentshows how many rows and columns"
   ]
  },
  {
   "cell_type": "markdown",
   "id": "ca9d8767",
   "metadata": {},
   "source": [
    "Checking types of values in dataset:"
   ]
  },
  {
   "cell_type": "code",
   "execution_count": 9,
   "id": "d5cf19bc",
   "metadata": {},
   "outputs": [
    {
     "data": {
      "text/plain": [
       "pickup_dt        object\n",
       "pickup_month     object\n",
       "borough          object\n",
       "pickups           int64\n",
       "hday             object\n",
       "spd             float64\n",
       "vsb             float64\n",
       "temp            float64\n",
       "dewp            float64\n",
       "slp             float64\n",
       "pcp 01          float64\n",
       "pcp 06          float64\n",
       "pcp 24          float64\n",
       "sd              float64\n",
       "dtype: object"
      ]
     },
     "execution_count": 9,
     "metadata": {},
     "output_type": "execute_result"
    }
   ],
   "source": [
    "df.dtypes"
   ]
  },
  {
   "cell_type": "markdown",
   "id": "addc3bca",
   "metadata": {},
   "source": [
    "In column names replace space to underscore "
   ]
  },
  {
   "cell_type": "code",
   "execution_count": 17,
   "id": "0fc1d73f",
   "metadata": {},
   "outputs": [],
   "source": [
    "df.columns = df.columns.str.replace(\" \", \"_\") # 1st method with .replace()              "
   ]
  },
  {
   "cell_type": "code",
   "execution_count": 18,
   "id": "d2af86e2",
   "metadata": {},
   "outputs": [
    {
     "data": {
      "text/html": [
       "<div>\n",
       "<style scoped>\n",
       "    .dataframe tbody tr th:only-of-type {\n",
       "        vertical-align: middle;\n",
       "    }\n",
       "\n",
       "    .dataframe tbody tr th {\n",
       "        vertical-align: top;\n",
       "    }\n",
       "\n",
       "    .dataframe thead th {\n",
       "        text-align: right;\n",
       "    }\n",
       "</style>\n",
       "<table border=\"1\" class=\"dataframe\">\n",
       "  <thead>\n",
       "    <tr style=\"text-align: right;\">\n",
       "      <th></th>\n",
       "      <th>pickup_dt</th>\n",
       "      <th>pickup_month</th>\n",
       "      <th>borough</th>\n",
       "      <th>pickups</th>\n",
       "      <th>hday</th>\n",
       "      <th>spd</th>\n",
       "      <th>vsb</th>\n",
       "      <th>temp</th>\n",
       "      <th>dewp</th>\n",
       "      <th>slp</th>\n",
       "      <th>pcp_01</th>\n",
       "      <th>pcp_06</th>\n",
       "      <th>pcp_24</th>\n",
       "      <th>sd</th>\n",
       "    </tr>\n",
       "  </thead>\n",
       "  <tbody>\n",
       "    <tr>\n",
       "      <th>0</th>\n",
       "      <td>2015-01-01 01:00:00</td>\n",
       "      <td>Jan</td>\n",
       "      <td>Bronx</td>\n",
       "      <td>152</td>\n",
       "      <td>Y</td>\n",
       "      <td>5.0</td>\n",
       "      <td>10.0</td>\n",
       "      <td>30.0</td>\n",
       "      <td>7.0</td>\n",
       "      <td>1023.5</td>\n",
       "      <td>0.0</td>\n",
       "      <td>0.0</td>\n",
       "      <td>0.0</td>\n",
       "      <td>0.0</td>\n",
       "    </tr>\n",
       "    <tr>\n",
       "      <th>1</th>\n",
       "      <td>2015-01-01 01:00:00</td>\n",
       "      <td>Jan</td>\n",
       "      <td>Brooklyn</td>\n",
       "      <td>1519</td>\n",
       "      <td>Y</td>\n",
       "      <td>5.0</td>\n",
       "      <td>10.0</td>\n",
       "      <td>30.0</td>\n",
       "      <td>7.0</td>\n",
       "      <td>1023.5</td>\n",
       "      <td>0.0</td>\n",
       "      <td>0.0</td>\n",
       "      <td>0.0</td>\n",
       "      <td>0.0</td>\n",
       "    </tr>\n",
       "    <tr>\n",
       "      <th>2</th>\n",
       "      <td>2015-01-01 01:00:00</td>\n",
       "      <td>Jan</td>\n",
       "      <td>EWR</td>\n",
       "      <td>0</td>\n",
       "      <td>Y</td>\n",
       "      <td>5.0</td>\n",
       "      <td>10.0</td>\n",
       "      <td>30.0</td>\n",
       "      <td>7.0</td>\n",
       "      <td>1023.5</td>\n",
       "      <td>0.0</td>\n",
       "      <td>0.0</td>\n",
       "      <td>0.0</td>\n",
       "      <td>0.0</td>\n",
       "    </tr>\n",
       "  </tbody>\n",
       "</table>\n",
       "</div>"
      ],
      "text/plain": [
       "             pickup_dt pickup_month   borough  pickups hday  spd   vsb  temp  \\\n",
       "0  2015-01-01 01:00:00          Jan     Bronx      152    Y  5.0  10.0  30.0   \n",
       "1  2015-01-01 01:00:00          Jan  Brooklyn     1519    Y  5.0  10.0  30.0   \n",
       "2  2015-01-01 01:00:00          Jan       EWR        0    Y  5.0  10.0  30.0   \n",
       "\n",
       "   dewp     slp  pcp_01  pcp_06  pcp_24   sd  \n",
       "0   7.0  1023.5     0.0     0.0     0.0  0.0  \n",
       "1   7.0  1023.5     0.0     0.0     0.0  0.0  \n",
       "2   7.0  1023.5     0.0     0.0     0.0  0.0  "
      ]
     },
     "execution_count": 18,
     "metadata": {},
     "output_type": "execute_result"
    }
   ],
   "source": [
    "df = df.rename(columns=lambda col: col.replace(\" \", \"_\"))  # 2nd method with lambda \n",
    "df.head(3)"
   ]
  },
  {
   "cell_type": "markdown",
   "id": "f2cc2b46",
   "metadata": {},
   "source": [
    "How many times 'Brooklin' appears in dataset"
   ]
  },
  {
   "cell_type": "code",
   "execution_count": 24,
   "id": "920b6d25",
   "metadata": {},
   "outputs": [
    {
     "data": {
      "text/plain": [
       "4343"
      ]
     },
     "execution_count": 24,
     "metadata": {},
     "output_type": "execute_result"
    }
   ],
   "source": [
    "df.query('borough == \"Brooklyn\"').shape[0]"
   ]
  },
  {
   "cell_type": "markdown",
   "id": "6b760986",
   "metadata": {},
   "source": [
    "How to check how many times appears any district:"
   ]
  },
  {
   "cell_type": "code",
   "execution_count": 25,
   "id": "f1b423ee",
   "metadata": {},
   "outputs": [
    {
     "data": {
      "text/html": [
       "<div>\n",
       "<style scoped>\n",
       "    .dataframe tbody tr th:only-of-type {\n",
       "        vertical-align: middle;\n",
       "    }\n",
       "\n",
       "    .dataframe tbody tr th {\n",
       "        vertical-align: top;\n",
       "    }\n",
       "\n",
       "    .dataframe thead th {\n",
       "        text-align: right;\n",
       "    }\n",
       "</style>\n",
       "<table border=\"1\" class=\"dataframe\">\n",
       "  <thead>\n",
       "    <tr style=\"text-align: right;\">\n",
       "      <th></th>\n",
       "      <th>pickups</th>\n",
       "    </tr>\n",
       "    <tr>\n",
       "      <th>borough</th>\n",
       "      <th></th>\n",
       "    </tr>\n",
       "  </thead>\n",
       "  <tbody>\n",
       "    <tr>\n",
       "      <th>Bronx</th>\n",
       "      <td>4343</td>\n",
       "    </tr>\n",
       "    <tr>\n",
       "      <th>Brooklyn</th>\n",
       "      <td>4343</td>\n",
       "    </tr>\n",
       "    <tr>\n",
       "      <th>EWR</th>\n",
       "      <td>4343</td>\n",
       "    </tr>\n",
       "    <tr>\n",
       "      <th>Manhattan</th>\n",
       "      <td>4343</td>\n",
       "    </tr>\n",
       "    <tr>\n",
       "      <th>Queens</th>\n",
       "      <td>4343</td>\n",
       "    </tr>\n",
       "    <tr>\n",
       "      <th>Staten Island</th>\n",
       "      <td>4343</td>\n",
       "    </tr>\n",
       "  </tbody>\n",
       "</table>\n",
       "</div>"
      ],
      "text/plain": [
       "               pickups\n",
       "borough               \n",
       "Bronx             4343\n",
       "Brooklyn          4343\n",
       "EWR               4343\n",
       "Manhattan         4343\n",
       "Queens            4343\n",
       "Staten Island     4343"
      ]
     },
     "execution_count": 25,
     "metadata": {},
     "output_type": "execute_result"
    }
   ],
   "source": [
    "df.groupby('borough').agg({'pickups': 'count'})"
   ]
  },
  {
   "cell_type": "markdown",
   "id": "9d9831b0",
   "metadata": {},
   "source": [
    "Calculate total number of pickups"
   ]
  },
  {
   "cell_type": "code",
   "execution_count": 26,
   "id": "5c8ddc12",
   "metadata": {},
   "outputs": [
    {
     "data": {
      "text/plain": [
       "14265773"
      ]
     },
     "execution_count": 26,
     "metadata": {},
     "output_type": "execute_result"
    }
   ],
   "source": [
    "df.pickups.sum()"
   ]
  },
  {
   "cell_type": "markdown",
   "id": "e8e95deb",
   "metadata": {},
   "source": [
    "Which district with maximum number of pickup"
   ]
  },
  {
   "cell_type": "code",
   "execution_count": 31,
   "id": "b2fe3dbe",
   "metadata": {},
   "outputs": [
    {
     "data": {
      "text/html": [
       "<div>\n",
       "<style scoped>\n",
       "    .dataframe tbody tr th:only-of-type {\n",
       "        vertical-align: middle;\n",
       "    }\n",
       "\n",
       "    .dataframe tbody tr th {\n",
       "        vertical-align: top;\n",
       "    }\n",
       "\n",
       "    .dataframe thead th {\n",
       "        text-align: right;\n",
       "    }\n",
       "</style>\n",
       "<table border=\"1\" class=\"dataframe\">\n",
       "  <thead>\n",
       "    <tr style=\"text-align: right;\">\n",
       "      <th></th>\n",
       "      <th>pickups</th>\n",
       "    </tr>\n",
       "    <tr>\n",
       "      <th>borough</th>\n",
       "      <th></th>\n",
       "    </tr>\n",
       "  </thead>\n",
       "  <tbody>\n",
       "    <tr>\n",
       "      <th>Manhattan</th>\n",
       "      <td>10367841</td>\n",
       "    </tr>\n",
       "    <tr>\n",
       "      <th>Brooklyn</th>\n",
       "      <td>2321035</td>\n",
       "    </tr>\n",
       "    <tr>\n",
       "      <th>Queens</th>\n",
       "      <td>1343528</td>\n",
       "    </tr>\n",
       "    <tr>\n",
       "      <th>Bronx</th>\n",
       "      <td>220047</td>\n",
       "    </tr>\n",
       "    <tr>\n",
       "      <th>Staten Island</th>\n",
       "      <td>6957</td>\n",
       "    </tr>\n",
       "    <tr>\n",
       "      <th>EWR</th>\n",
       "      <td>105</td>\n",
       "    </tr>\n",
       "  </tbody>\n",
       "</table>\n",
       "</div>"
      ],
      "text/plain": [
       "                pickups\n",
       "borough                \n",
       "Manhattan      10367841\n",
       "Brooklyn        2321035\n",
       "Queens          1343528\n",
       "Bronx            220047\n",
       "Staten Island      6957\n",
       "EWR                 105"
      ]
     },
     "execution_count": 31,
     "metadata": {},
     "output_type": "execute_result"
    }
   ],
   "source": [
    "df.groupby('borough').agg({'pickups': 'sum'}).sort_values('pickups', ascending=False)  \n",
    "\n",
    "# .sort_values Sort by the values along either axis "
   ]
  },
  {
   "cell_type": "markdown",
   "id": "6c1fccc9",
   "metadata": {},
   "source": [
    "Method to calculate value for one district"
   ]
  },
  {
   "cell_type": "code",
   "execution_count": 29,
   "id": "19ac45b7",
   "metadata": {},
   "outputs": [
    {
     "data": {
      "text/plain": [
       "2321035"
      ]
     },
     "execution_count": 29,
     "metadata": {},
     "output_type": "execute_result"
    }
   ],
   "source": [
    "df.query('borough == \"Manhattan\"')['pickups'].sum()"
   ]
  },
  {
   "cell_type": "markdown",
   "id": "cc753222",
   "metadata": {},
   "source": [
    "Find the district with minimum trips"
   ]
  },
  {
   "cell_type": "code",
   "execution_count": 34,
   "id": "be8b567b",
   "metadata": {},
   "outputs": [
    {
     "data": {
      "text/plain": [
       "pickups    EWR\n",
       "dtype: object"
      ]
     },
     "execution_count": 34,
     "metadata": {},
     "output_type": "execute_result"
    }
   ],
   "source": [
    "min_pickups = df.groupby('borough').agg({'pickups': 'sum'}).idxmin()\n",
    "min_pickups"
   ]
  },
  {
   "cell_type": "markdown",
   "id": "a6dad03b",
   "metadata": {},
   "source": [
    "Group data by district and holidays columns. Compare the mean value of rides. Find district, that have trip on holidays more than on workdays"
   ]
  },
  {
   "cell_type": "code",
   "execution_count": 38,
   "id": "f2a9baef",
   "metadata": {},
   "outputs": [
    {
     "data": {
      "text/html": [
       "<div>\n",
       "<style scoped>\n",
       "    .dataframe tbody tr th:only-of-type {\n",
       "        vertical-align: middle;\n",
       "    }\n",
       "\n",
       "    .dataframe tbody tr th {\n",
       "        vertical-align: top;\n",
       "    }\n",
       "\n",
       "    .dataframe thead th {\n",
       "        text-align: right;\n",
       "    }\n",
       "</style>\n",
       "<table border=\"1\" class=\"dataframe\">\n",
       "  <thead>\n",
       "    <tr style=\"text-align: right;\">\n",
       "      <th>hday</th>\n",
       "      <th>N</th>\n",
       "      <th>Y</th>\n",
       "    </tr>\n",
       "    <tr>\n",
       "      <th>borough</th>\n",
       "      <th></th>\n",
       "      <th></th>\n",
       "    </tr>\n",
       "  </thead>\n",
       "  <tbody>\n",
       "    <tr>\n",
       "      <th>EWR</th>\n",
       "      <td>0.023467</td>\n",
       "      <td>0.041916</td>\n",
       "    </tr>\n",
       "    <tr>\n",
       "      <th>Queens</th>\n",
       "      <td>308.899904</td>\n",
       "      <td>320.730539</td>\n",
       "    </tr>\n",
       "  </tbody>\n",
       "</table>\n",
       "</div>"
      ],
      "text/plain": [
       "hday              N           Y\n",
       "borough                        \n",
       "EWR        0.023467    0.041916\n",
       "Queens   308.899904  320.730539"
      ]
     },
     "execution_count": 38,
     "metadata": {},
     "output_type": "execute_result"
    }
   ],
   "source": [
    "distr = df.groupby(['borough', 'hday'], as_index = False).agg({'pickups' : 'mean'})\n",
    "distr.pivot(columns='hday', values='pickups', index='borough').query('Y > N')"
   ]
  },
  {
   "cell_type": "markdown",
   "id": "71dd427f",
   "metadata": {},
   "source": [
    "Count number of trips by month. Sort data in descending order."
   ]
  },
  {
   "cell_type": "code",
   "execution_count": 43,
   "id": "86f34506",
   "metadata": {},
   "outputs": [
    {
     "data": {
      "text/html": [
       "<div>\n",
       "<style scoped>\n",
       "    .dataframe tbody tr th:only-of-type {\n",
       "        vertical-align: middle;\n",
       "    }\n",
       "\n",
       "    .dataframe tbody tr th {\n",
       "        vertical-align: top;\n",
       "    }\n",
       "\n",
       "    .dataframe thead th {\n",
       "        text-align: right;\n",
       "    }\n",
       "</style>\n",
       "<table border=\"1\" class=\"dataframe\">\n",
       "  <thead>\n",
       "    <tr style=\"text-align: right;\">\n",
       "      <th></th>\n",
       "      <th>borough</th>\n",
       "      <th>pickup_month</th>\n",
       "      <th>pickups</th>\n",
       "    </tr>\n",
       "  </thead>\n",
       "  <tbody>\n",
       "    <tr>\n",
       "      <th>21</th>\n",
       "      <td>Manhattan</td>\n",
       "      <td>Jun</td>\n",
       "      <td>1995388</td>\n",
       "    </tr>\n",
       "    <tr>\n",
       "      <th>23</th>\n",
       "      <td>Manhattan</td>\n",
       "      <td>May</td>\n",
       "      <td>1888800</td>\n",
       "    </tr>\n",
       "    <tr>\n",
       "      <th>19</th>\n",
       "      <td>Manhattan</td>\n",
       "      <td>Feb</td>\n",
       "      <td>1718571</td>\n",
       "    </tr>\n",
       "    <tr>\n",
       "      <th>22</th>\n",
       "      <td>Manhattan</td>\n",
       "      <td>Mar</td>\n",
       "      <td>1661261</td>\n",
       "    </tr>\n",
       "    <tr>\n",
       "      <th>18</th>\n",
       "      <td>Manhattan</td>\n",
       "      <td>Apr</td>\n",
       "      <td>1648278</td>\n",
       "    </tr>\n",
       "    <tr>\n",
       "      <th>20</th>\n",
       "      <td>Manhattan</td>\n",
       "      <td>Jan</td>\n",
       "      <td>1455543</td>\n",
       "    </tr>\n",
       "    <tr>\n",
       "      <th>9</th>\n",
       "      <td>Brooklyn</td>\n",
       "      <td>Jun</td>\n",
       "      <td>482466</td>\n",
       "    </tr>\n",
       "    <tr>\n",
       "      <th>11</th>\n",
       "      <td>Brooklyn</td>\n",
       "      <td>May</td>\n",
       "      <td>476087</td>\n",
       "    </tr>\n",
       "    <tr>\n",
       "      <th>6</th>\n",
       "      <td>Brooklyn</td>\n",
       "      <td>Apr</td>\n",
       "      <td>378095</td>\n",
       "    </tr>\n",
       "    <tr>\n",
       "      <th>10</th>\n",
       "      <td>Brooklyn</td>\n",
       "      <td>Mar</td>\n",
       "      <td>346726</td>\n",
       "    </tr>\n",
       "    <tr>\n",
       "      <th>7</th>\n",
       "      <td>Brooklyn</td>\n",
       "      <td>Feb</td>\n",
       "      <td>328650</td>\n",
       "    </tr>\n",
       "    <tr>\n",
       "      <th>8</th>\n",
       "      <td>Brooklyn</td>\n",
       "      <td>Jan</td>\n",
       "      <td>309011</td>\n",
       "    </tr>\n",
       "    <tr>\n",
       "      <th>27</th>\n",
       "      <td>Queens</td>\n",
       "      <td>Jun</td>\n",
       "      <td>286311</td>\n",
       "    </tr>\n",
       "    <tr>\n",
       "      <th>29</th>\n",
       "      <td>Queens</td>\n",
       "      <td>May</td>\n",
       "      <td>275893</td>\n",
       "    </tr>\n",
       "    <tr>\n",
       "      <th>28</th>\n",
       "      <td>Queens</td>\n",
       "      <td>Mar</td>\n",
       "      <td>219561</td>\n",
       "    </tr>\n",
       "    <tr>\n",
       "      <th>24</th>\n",
       "      <td>Queens</td>\n",
       "      <td>Apr</td>\n",
       "      <td>216857</td>\n",
       "    </tr>\n",
       "    <tr>\n",
       "      <th>25</th>\n",
       "      <td>Queens</td>\n",
       "      <td>Feb</td>\n",
       "      <td>185695</td>\n",
       "    </tr>\n",
       "    <tr>\n",
       "      <th>26</th>\n",
       "      <td>Queens</td>\n",
       "      <td>Jan</td>\n",
       "      <td>159211</td>\n",
       "    </tr>\n",
       "    <tr>\n",
       "      <th>5</th>\n",
       "      <td>Bronx</td>\n",
       "      <td>May</td>\n",
       "      <td>53037</td>\n",
       "    </tr>\n",
       "    <tr>\n",
       "      <th>3</th>\n",
       "      <td>Bronx</td>\n",
       "      <td>Jun</td>\n",
       "      <td>49006</td>\n",
       "    </tr>\n",
       "    <tr>\n",
       "      <th>0</th>\n",
       "      <td>Bronx</td>\n",
       "      <td>Apr</td>\n",
       "      <td>34617</td>\n",
       "    </tr>\n",
       "    <tr>\n",
       "      <th>4</th>\n",
       "      <td>Bronx</td>\n",
       "      <td>Mar</td>\n",
       "      <td>32232</td>\n",
       "    </tr>\n",
       "    <tr>\n",
       "      <th>1</th>\n",
       "      <td>Bronx</td>\n",
       "      <td>Feb</td>\n",
       "      <td>28694</td>\n",
       "    </tr>\n",
       "    <tr>\n",
       "      <th>2</th>\n",
       "      <td>Bronx</td>\n",
       "      <td>Jan</td>\n",
       "      <td>22461</td>\n",
       "    </tr>\n",
       "    <tr>\n",
       "      <th>33</th>\n",
       "      <td>Staten Island</td>\n",
       "      <td>Jun</td>\n",
       "      <td>1673</td>\n",
       "    </tr>\n",
       "    <tr>\n",
       "      <th>35</th>\n",
       "      <td>Staten Island</td>\n",
       "      <td>May</td>\n",
       "      <td>1517</td>\n",
       "    </tr>\n",
       "    <tr>\n",
       "      <th>30</th>\n",
       "      <td>Staten Island</td>\n",
       "      <td>Apr</td>\n",
       "      <td>1068</td>\n",
       "    </tr>\n",
       "    <tr>\n",
       "      <th>34</th>\n",
       "      <td>Staten Island</td>\n",
       "      <td>Mar</td>\n",
       "      <td>975</td>\n",
       "    </tr>\n",
       "    <tr>\n",
       "      <th>31</th>\n",
       "      <td>Staten Island</td>\n",
       "      <td>Feb</td>\n",
       "      <td>903</td>\n",
       "    </tr>\n",
       "    <tr>\n",
       "      <th>32</th>\n",
       "      <td>Staten Island</td>\n",
       "      <td>Jan</td>\n",
       "      <td>821</td>\n",
       "    </tr>\n",
       "    <tr>\n",
       "      <th>15</th>\n",
       "      <td>EWR</td>\n",
       "      <td>Jun</td>\n",
       "      <td>29</td>\n",
       "    </tr>\n",
       "    <tr>\n",
       "      <th>17</th>\n",
       "      <td>EWR</td>\n",
       "      <td>May</td>\n",
       "      <td>27</td>\n",
       "    </tr>\n",
       "    <tr>\n",
       "      <th>16</th>\n",
       "      <td>EWR</td>\n",
       "      <td>Mar</td>\n",
       "      <td>14</td>\n",
       "    </tr>\n",
       "    <tr>\n",
       "      <th>13</th>\n",
       "      <td>EWR</td>\n",
       "      <td>Feb</td>\n",
       "      <td>14</td>\n",
       "    </tr>\n",
       "    <tr>\n",
       "      <th>14</th>\n",
       "      <td>EWR</td>\n",
       "      <td>Jan</td>\n",
       "      <td>11</td>\n",
       "    </tr>\n",
       "    <tr>\n",
       "      <th>12</th>\n",
       "      <td>EWR</td>\n",
       "      <td>Apr</td>\n",
       "      <td>10</td>\n",
       "    </tr>\n",
       "  </tbody>\n",
       "</table>\n",
       "</div>"
      ],
      "text/plain": [
       "          borough pickup_month  pickups\n",
       "21      Manhattan          Jun  1995388\n",
       "23      Manhattan          May  1888800\n",
       "19      Manhattan          Feb  1718571\n",
       "22      Manhattan          Mar  1661261\n",
       "18      Manhattan          Apr  1648278\n",
       "20      Manhattan          Jan  1455543\n",
       "9        Brooklyn          Jun   482466\n",
       "11       Brooklyn          May   476087\n",
       "6        Brooklyn          Apr   378095\n",
       "10       Brooklyn          Mar   346726\n",
       "7        Brooklyn          Feb   328650\n",
       "8        Brooklyn          Jan   309011\n",
       "27         Queens          Jun   286311\n",
       "29         Queens          May   275893\n",
       "28         Queens          Mar   219561\n",
       "24         Queens          Apr   216857\n",
       "25         Queens          Feb   185695\n",
       "26         Queens          Jan   159211\n",
       "5           Bronx          May    53037\n",
       "3           Bronx          Jun    49006\n",
       "0           Bronx          Apr    34617\n",
       "4           Bronx          Mar    32232\n",
       "1           Bronx          Feb    28694\n",
       "2           Bronx          Jan    22461\n",
       "33  Staten Island          Jun     1673\n",
       "35  Staten Island          May     1517\n",
       "30  Staten Island          Apr     1068\n",
       "34  Staten Island          Mar      975\n",
       "31  Staten Island          Feb      903\n",
       "32  Staten Island          Jan      821\n",
       "15            EWR          Jun       29\n",
       "17            EWR          May       27\n",
       "16            EWR          Mar       14\n",
       "13            EWR          Feb       14\n",
       "14            EWR          Jan       11\n",
       "12            EWR          Apr       10"
      ]
     },
     "execution_count": 43,
     "metadata": {},
     "output_type": "execute_result"
    }
   ],
   "source": [
    "trips_by_month = df.groupby(['borough', 'pickup_month'], as_index=False) \\\n",
    "                  .agg({'pickups': 'sum'}) \\\n",
    "                  .sort_values('pickups', ascending=False)\n",
    "trips_by_month"
   ]
  },
  {
   "cell_type": "markdown",
   "id": "3a5c285c",
   "metadata": {},
   "source": [
    "Write a function, those will be convert farenheit to celcius"
   ]
  },
  {
   "cell_type": "code",
   "execution_count": 44,
   "id": "c79801bd",
   "metadata": {},
   "outputs": [],
   "source": [
    "def temp_to_celcius(temp_f):\n",
    "    return (temp_f - 32) * 5/9"
   ]
  },
  {
   "cell_type": "code",
   "execution_count": 45,
   "id": "d328f611",
   "metadata": {
    "scrolled": true
   },
   "outputs": [
    {
     "data": {
      "text/plain": [
       "10.0"
      ]
     },
     "execution_count": 45,
     "metadata": {},
     "output_type": "execute_result"
    }
   ],
   "source": [
    "temp_to_celcius(50)"
   ]
  }
 ],
 "metadata": {
  "kernelspec": {
   "display_name": "Python 3 (ipykernel)",
   "language": "python",
   "name": "python3"
  },
  "language_info": {
   "codemirror_mode": {
    "name": "ipython",
    "version": 3
   },
   "file_extension": ".py",
   "mimetype": "text/x-python",
   "name": "python",
   "nbconvert_exporter": "python",
   "pygments_lexer": "ipython3",
   "version": "3.9.13"
  }
 },
 "nbformat": 4,
 "nbformat_minor": 5
}
