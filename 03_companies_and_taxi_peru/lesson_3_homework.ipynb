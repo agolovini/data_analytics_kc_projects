{
 "cells": [
  {
   "cell_type": "markdown",
   "metadata": {},
   "source": [
    "\n",
    "   # 📌 Companies and Taxi Peru // mini-project \n",
    "\n",
    "***\n",
    "\n",
    "   #### owner: Golovin Alexey\n"
   ]
  },
  {
   "cell_type": "markdown",
   "metadata": {},
   "source": [
    "Import libraries block:"
   ]
  },
  {
   "cell_type": "code",
   "execution_count": 1,
   "metadata": {},
   "outputs": [],
   "source": [
    "import pandas as pd\n",
    "import seaborn as sns\n",
    "import matplotlib.pyplot as plt\n",
    "from datetime import datetime \n",
    "import seaborn as sns\n",
    "%matplotlib inline"
   ]
  },
  {
   "cell_type": "markdown",
   "metadata": {},
   "source": [
    "Let's create our own function. Write a function called **\"read_n_agg\"** that:\n",
    "\n",
    "1. takes one parameter - the file path\n",
    "2. reads a file with ';' as a separator using the passed path\n",
    "3. calculates the average income by company, moving the company column to the index (as_index=True)\n",
    "4. returns the resulting dataframe"
   ]
  },
  {
   "cell_type": "code",
   "execution_count": 2,
   "metadata": {},
   "outputs": [
    {
     "data": {
      "text/html": [
       "<div>\n",
       "<style scoped>\n",
       "    .dataframe tbody tr th:only-of-type {\n",
       "        vertical-align: middle;\n",
       "    }\n",
       "\n",
       "    .dataframe tbody tr th {\n",
       "        vertical-align: top;\n",
       "    }\n",
       "\n",
       "    .dataframe thead th {\n",
       "        text-align: right;\n",
       "    }\n",
       "</style>\n",
       "<table border=\"1\" class=\"dataframe\">\n",
       "  <thead>\n",
       "    <tr style=\"text-align: right;\">\n",
       "      <th></th>\n",
       "      <th>company</th>\n",
       "      <th>income</th>\n",
       "      <th>date</th>\n",
       "    </tr>\n",
       "  </thead>\n",
       "  <tbody>\n",
       "    <tr>\n",
       "      <th>0</th>\n",
       "      <td>ЗАО «Доронин, Колобов и Калашникова»</td>\n",
       "      <td>1221331958</td>\n",
       "      <td>2019-09-09</td>\n",
       "    </tr>\n",
       "    <tr>\n",
       "      <th>1</th>\n",
       "      <td>ООО «Авдеев»</td>\n",
       "      <td>21116804375</td>\n",
       "      <td>1972-12-21</td>\n",
       "    </tr>\n",
       "    <tr>\n",
       "      <th>2</th>\n",
       "      <td>РАО «Аксенов Сорокина»</td>\n",
       "      <td>79257158759</td>\n",
       "      <td>2007-03-05</td>\n",
       "    </tr>\n",
       "    <tr>\n",
       "      <th>3</th>\n",
       "      <td>Ларионов Инкорпорэйтед</td>\n",
       "      <td>36799366126</td>\n",
       "      <td>2011-08-11</td>\n",
       "    </tr>\n",
       "    <tr>\n",
       "      <th>4</th>\n",
       "      <td>Григорьев Инкорпорэйтед</td>\n",
       "      <td>48201837498</td>\n",
       "      <td>1989-09-02</td>\n",
       "    </tr>\n",
       "  </tbody>\n",
       "</table>\n",
       "</div>"
      ],
      "text/plain": [
       "                                company       income        date\n",
       "0  ЗАО «Доронин, Колобов и Калашникова»   1221331958  2019-09-09\n",
       "1                          ООО «Авдеев»  21116804375  1972-12-21\n",
       "2                РАО «Аксенов Сорокина»  79257158759  2007-03-05\n",
       "3                Ларионов Инкорпорэйтед  36799366126  2011-08-11\n",
       "4               Григорьев Инкорпорэйтед  48201837498  1989-09-02"
      ]
     },
     "execution_count": 2,
     "metadata": {},
     "output_type": "execute_result"
    }
   ],
   "source": [
    "df = pd.read_csv('3_companies.csv', sep=';')\n",
    "df.head()"
   ]
  },
  {
   "cell_type": "code",
   "execution_count": 3,
   "metadata": {},
   "outputs": [],
   "source": [
    "def read_n_agg(x) :\n",
    "    aggregate = pd.read_csv(x,sep=';') \\\n",
    "                  .groupby('company', as_index=True) \\\n",
    "                  .agg({'income': 'mean'}) \n",
    "    return aggregate"
   ]
  },
  {
   "cell_type": "code",
   "execution_count": 4,
   "metadata": {
    "scrolled": false
   },
   "outputs": [
    {
     "data": {
      "text/html": [
       "<div>\n",
       "<style scoped>\n",
       "    .dataframe tbody tr th:only-of-type {\n",
       "        vertical-align: middle;\n",
       "    }\n",
       "\n",
       "    .dataframe tbody tr th {\n",
       "        vertical-align: top;\n",
       "    }\n",
       "\n",
       "    .dataframe thead th {\n",
       "        text-align: right;\n",
       "    }\n",
       "</style>\n",
       "<table border=\"1\" class=\"dataframe\">\n",
       "  <thead>\n",
       "    <tr style=\"text-align: right;\">\n",
       "      <th></th>\n",
       "      <th>income</th>\n",
       "    </tr>\n",
       "    <tr>\n",
       "      <th>company</th>\n",
       "      <th></th>\n",
       "    </tr>\n",
       "  </thead>\n",
       "  <tbody>\n",
       "    <tr>\n",
       "      <th>En +</th>\n",
       "      <td>9.962187e+10</td>\n",
       "    </tr>\n",
       "    <tr>\n",
       "      <th>АО «Александрова, Савельев и Мельникова»</th>\n",
       "      <td>7.206782e+10</td>\n",
       "    </tr>\n",
       "    <tr>\n",
       "      <th>АО «Андреев-Анисимов»</th>\n",
       "      <td>6.931948e+09</td>\n",
       "    </tr>\n",
       "    <tr>\n",
       "      <th>АО «Андреев-Макарова»</th>\n",
       "      <td>8.934380e+10</td>\n",
       "    </tr>\n",
       "    <tr>\n",
       "      <th>АО «Большаков Кошелева»</th>\n",
       "      <td>7.860861e+10</td>\n",
       "    </tr>\n",
       "    <tr>\n",
       "      <th>...</th>\n",
       "      <td>...</td>\n",
       "    </tr>\n",
       "    <tr>\n",
       "      <th>Щекиноазот</th>\n",
       "      <td>4.309092e+10</td>\n",
       "    </tr>\n",
       "    <tr>\n",
       "      <th>Щукин Лимитед</th>\n",
       "      <td>6.703036e+10</td>\n",
       "    </tr>\n",
       "    <tr>\n",
       "      <th>Эйвон Бьюти Продактс Компани (Avon)</th>\n",
       "      <td>2.503657e+10</td>\n",
       "    </tr>\n",
       "    <tr>\n",
       "      <th>Яковлева Инкорпорэйтед</th>\n",
       "      <td>3.523436e+10</td>\n",
       "    </tr>\n",
       "    <tr>\n",
       "      <th>Якушев Лимитед</th>\n",
       "      <td>3.876468e+10</td>\n",
       "    </tr>\n",
       "  </tbody>\n",
       "</table>\n",
       "<p>289 rows × 1 columns</p>\n",
       "</div>"
      ],
      "text/plain": [
       "                                                income\n",
       "company                                               \n",
       "En +                                      9.962187e+10\n",
       "АО «Александрова, Савельев и Мельникова»  7.206782e+10\n",
       "АО «Андреев-Анисимов»                     6.931948e+09\n",
       "АО «Андреев-Макарова»                     8.934380e+10\n",
       "АО «Большаков Кошелева»                   7.860861e+10\n",
       "...                                                ...\n",
       "Щекиноазот                                4.309092e+10\n",
       "Щукин Лимитед                             6.703036e+10\n",
       "Эйвон Бьюти Продактс Компани (Avon)       2.503657e+10\n",
       "Яковлева Инкорпорэйтед                    3.523436e+10\n",
       "Якушев Лимитед                            3.876468e+10\n",
       "\n",
       "[289 rows x 1 columns]"
      ]
     },
     "execution_count": 4,
     "metadata": {},
     "output_type": "execute_result"
    }
   ],
   "source": [
    "read_n_agg('3_companies.csv')"
   ]
  },
  {
   "cell_type": "code",
   "execution_count": 5,
   "metadata": {},
   "outputs": [
    {
     "data": {
      "text/html": [
       "<div>\n",
       "<style scoped>\n",
       "    .dataframe tbody tr th:only-of-type {\n",
       "        vertical-align: middle;\n",
       "    }\n",
       "\n",
       "    .dataframe tbody tr th {\n",
       "        vertical-align: top;\n",
       "    }\n",
       "\n",
       "    .dataframe thead th {\n",
       "        text-align: right;\n",
       "    }\n",
       "</style>\n",
       "<table border=\"1\" class=\"dataframe\">\n",
       "  <thead>\n",
       "    <tr style=\"text-align: right;\">\n",
       "      <th></th>\n",
       "      <th>journey_id</th>\n",
       "      <th>user_id</th>\n",
       "      <th>driver_id</th>\n",
       "      <th>taxi_id</th>\n",
       "      <th>icon</th>\n",
       "      <th>start_type</th>\n",
       "      <th>start_at</th>\n",
       "      <th>start_lat</th>\n",
       "      <th>start_lon</th>\n",
       "      <th>end_at</th>\n",
       "      <th>end_lat</th>\n",
       "      <th>end_lon</th>\n",
       "      <th>end_state</th>\n",
       "      <th>driver_start_lat</th>\n",
       "      <th>driver_start_lon</th>\n",
       "      <th>arrived_at</th>\n",
       "      <th>source</th>\n",
       "      <th>driver_score</th>\n",
       "      <th>rider_score</th>\n",
       "    </tr>\n",
       "  </thead>\n",
       "  <tbody>\n",
       "    <tr>\n",
       "      <th>0</th>\n",
       "      <td>23a1406fc6a11d866e3c82f22eed4d4c</td>\n",
       "      <td>0e9af5bbf1edfe591b54ecdfd7e91e26</td>\n",
       "      <td>583949a89a9ee17d19e3ca4f137b6b4c</td>\n",
       "      <td>b12f4f09c783e29fe0d0ea624530db56</td>\n",
       "      <td>executive</td>\n",
       "      <td>asap</td>\n",
       "      <td>2010-11-16 16:44:00</td>\n",
       "      <td>-12,13983536</td>\n",
       "      <td>-77,02355957</td>\n",
       "      <td>2010-11-16 17:29:00</td>\n",
       "      <td>-12,05537033</td>\n",
       "      <td>-77,0413208</td>\n",
       "      <td>drop off</td>\n",
       "      <td>-12,10825481</td>\n",
       "      <td>-77,0272739</td>\n",
       "      <td>2010-11-16 17:02:00</td>\n",
       "      <td>iPhone</td>\n",
       "      <td>5.0</td>\n",
       "      <td>5.0</td>\n",
       "    </tr>\n",
       "    <tr>\n",
       "      <th>1</th>\n",
       "      <td>dd2af4715d0dc16eded53afc0e243577</td>\n",
       "      <td>a553c46e3a22fb9c326aeb3d72b3334e</td>\n",
       "      <td>NaN</td>\n",
       "      <td>NaN</td>\n",
       "      <td>executive</td>\n",
       "      <td>asap</td>\n",
       "      <td>2010-06-01 00:34:00</td>\n",
       "      <td>-12,13874817</td>\n",
       "      <td>-76,99536133</td>\n",
       "      <td>2010-06-01 00:37:00</td>\n",
       "      <td>-12,12465668</td>\n",
       "      <td>-77,02886963</td>\n",
       "      <td>not found</td>\n",
       "      <td>NaN</td>\n",
       "      <td>NaN</td>\n",
       "      <td>NaN</td>\n",
       "      <td>iPhone</td>\n",
       "      <td>NaN</td>\n",
       "      <td>NaN</td>\n",
       "    </tr>\n",
       "    <tr>\n",
       "      <th>2</th>\n",
       "      <td>dd91e131888064bf7df3ce08f3d4b4ad</td>\n",
       "      <td>a553c46e3a22fb9c326aeb3d72b3334e</td>\n",
       "      <td>NaN</td>\n",
       "      <td>NaN</td>\n",
       "      <td>executive</td>\n",
       "      <td>asap</td>\n",
       "      <td>2010-05-31 05:01:00</td>\n",
       "      <td>-12,12453079</td>\n",
       "      <td>-77,02780151</td>\n",
       "      <td>2010-05-31 05:04:00</td>\n",
       "      <td>-12,13883209</td>\n",
       "      <td>-76,99530029</td>\n",
       "      <td>not found</td>\n",
       "      <td>NaN</td>\n",
       "      <td>NaN</td>\n",
       "      <td>NaN</td>\n",
       "      <td>iPhone</td>\n",
       "      <td>NaN</td>\n",
       "      <td>NaN</td>\n",
       "    </tr>\n",
       "  </tbody>\n",
       "</table>\n",
       "</div>"
      ],
      "text/plain": [
       "                         journey_id                           user_id  \\\n",
       "0  23a1406fc6a11d866e3c82f22eed4d4c  0e9af5bbf1edfe591b54ecdfd7e91e26   \n",
       "1  dd2af4715d0dc16eded53afc0e243577  a553c46e3a22fb9c326aeb3d72b3334e   \n",
       "2  dd91e131888064bf7df3ce08f3d4b4ad  a553c46e3a22fb9c326aeb3d72b3334e   \n",
       "\n",
       "                          driver_id                           taxi_id  \\\n",
       "0  583949a89a9ee17d19e3ca4f137b6b4c  b12f4f09c783e29fe0d0ea624530db56   \n",
       "1                               NaN                               NaN   \n",
       "2                               NaN                               NaN   \n",
       "\n",
       "        icon start_type             start_at     start_lat     start_lon  \\\n",
       "0  executive       asap  2010-11-16 16:44:00  -12,13983536  -77,02355957   \n",
       "1  executive       asap  2010-06-01 00:34:00  -12,13874817  -76,99536133   \n",
       "2  executive       asap  2010-05-31 05:01:00  -12,12453079  -77,02780151   \n",
       "\n",
       "                end_at       end_lat       end_lon  end_state  \\\n",
       "0  2010-11-16 17:29:00  -12,05537033   -77,0413208   drop off   \n",
       "1  2010-06-01 00:37:00  -12,12465668  -77,02886963  not found   \n",
       "2  2010-05-31 05:04:00  -12,13883209  -76,99530029  not found   \n",
       "\n",
       "  driver_start_lat driver_start_lon           arrived_at  source  \\\n",
       "0     -12,10825481      -77,0272739  2010-11-16 17:02:00  iPhone   \n",
       "1              NaN              NaN                  NaN  iPhone   \n",
       "2              NaN              NaN                  NaN  iPhone   \n",
       "\n",
       "   driver_score  rider_score  \n",
       "0           5.0          5.0  \n",
       "1           NaN          NaN  \n",
       "2           NaN          NaN  "
      ]
     },
     "execution_count": 5,
     "metadata": {},
     "output_type": "execute_result"
    }
   ],
   "source": [
    "taxi = pd.read_csv('3_taxi_peru.csv', sep=';')\n",
    "taxi.head(3)"
   ]
  },
  {
   "cell_type": "code",
   "execution_count": 6,
   "metadata": {},
   "outputs": [
    {
     "data": {
      "text/plain": [
       "journey_id           object\n",
       "user_id              object\n",
       "driver_id            object\n",
       "taxi_id              object\n",
       "icon                 object\n",
       "start_type           object\n",
       "start_at             object\n",
       "start_lat            object\n",
       "start_lon            object\n",
       "end_at               object\n",
       "end_lat              object\n",
       "end_lon              object\n",
       "end_state            object\n",
       "driver_start_lat     object\n",
       "driver_start_lon     object\n",
       "arrived_at           object\n",
       "source               object\n",
       "driver_score        float64\n",
       "rider_score         float64\n",
       "dtype: object"
      ]
     },
     "execution_count": 6,
     "metadata": {},
     "output_type": "execute_result"
    }
   ],
   "source": [
    "taxi.dtypes"
   ]
  },
  {
   "cell_type": "markdown",
   "metadata": {},
   "source": [
    "Columns `start_at`, `end_at`, `arrived_at` looks like dates, but in object type. Let's try 2 different options to convert them to **datetime**"
   ]
  },
  {
   "cell_type": "code",
   "execution_count": 7,
   "metadata": {},
   "outputs": [
    {
     "data": {
      "text/html": [
       "<div>\n",
       "<style scoped>\n",
       "    .dataframe tbody tr th:only-of-type {\n",
       "        vertical-align: middle;\n",
       "    }\n",
       "\n",
       "    .dataframe tbody tr th {\n",
       "        vertical-align: top;\n",
       "    }\n",
       "\n",
       "    .dataframe thead th {\n",
       "        text-align: right;\n",
       "    }\n",
       "</style>\n",
       "<table border=\"1\" class=\"dataframe\">\n",
       "  <thead>\n",
       "    <tr style=\"text-align: right;\">\n",
       "      <th></th>\n",
       "      <th>journey_id</th>\n",
       "      <th>user_id</th>\n",
       "      <th>driver_id</th>\n",
       "      <th>taxi_id</th>\n",
       "      <th>icon</th>\n",
       "      <th>start_type</th>\n",
       "      <th>start_at</th>\n",
       "      <th>start_lat</th>\n",
       "      <th>start_lon</th>\n",
       "      <th>end_at</th>\n",
       "      <th>end_lat</th>\n",
       "      <th>end_lon</th>\n",
       "      <th>end_state</th>\n",
       "      <th>driver_start_lat</th>\n",
       "      <th>driver_start_lon</th>\n",
       "      <th>arrived_at</th>\n",
       "      <th>source</th>\n",
       "      <th>driver_score</th>\n",
       "      <th>rider_score</th>\n",
       "    </tr>\n",
       "  </thead>\n",
       "  <tbody>\n",
       "    <tr>\n",
       "      <th>0</th>\n",
       "      <td>23a1406fc6a11d866e3c82f22eed4d4c</td>\n",
       "      <td>0e9af5bbf1edfe591b54ecdfd7e91e26</td>\n",
       "      <td>583949a89a9ee17d19e3ca4f137b6b4c</td>\n",
       "      <td>b12f4f09c783e29fe0d0ea624530db56</td>\n",
       "      <td>executive</td>\n",
       "      <td>asap</td>\n",
       "      <td>2010-11-16 16:44:00</td>\n",
       "      <td>-12,13983536</td>\n",
       "      <td>-77,02355957</td>\n",
       "      <td>2010-11-16 17:29:00</td>\n",
       "      <td>-12,05537033</td>\n",
       "      <td>-77,0413208</td>\n",
       "      <td>drop off</td>\n",
       "      <td>-12,10825481</td>\n",
       "      <td>-77,0272739</td>\n",
       "      <td>2010-11-16 17:02:00</td>\n",
       "      <td>iPhone</td>\n",
       "      <td>5.0</td>\n",
       "      <td>5.0</td>\n",
       "    </tr>\n",
       "    <tr>\n",
       "      <th>1</th>\n",
       "      <td>dd2af4715d0dc16eded53afc0e243577</td>\n",
       "      <td>a553c46e3a22fb9c326aeb3d72b3334e</td>\n",
       "      <td>NaN</td>\n",
       "      <td>NaN</td>\n",
       "      <td>executive</td>\n",
       "      <td>asap</td>\n",
       "      <td>2010-06-01 00:34:00</td>\n",
       "      <td>-12,13874817</td>\n",
       "      <td>-76,99536133</td>\n",
       "      <td>2010-06-01 00:37:00</td>\n",
       "      <td>-12,12465668</td>\n",
       "      <td>-77,02886963</td>\n",
       "      <td>not found</td>\n",
       "      <td>NaN</td>\n",
       "      <td>NaN</td>\n",
       "      <td>NaT</td>\n",
       "      <td>iPhone</td>\n",
       "      <td>NaN</td>\n",
       "      <td>NaN</td>\n",
       "    </tr>\n",
       "  </tbody>\n",
       "</table>\n",
       "</div>"
      ],
      "text/plain": [
       "                         journey_id                           user_id  \\\n",
       "0  23a1406fc6a11d866e3c82f22eed4d4c  0e9af5bbf1edfe591b54ecdfd7e91e26   \n",
       "1  dd2af4715d0dc16eded53afc0e243577  a553c46e3a22fb9c326aeb3d72b3334e   \n",
       "\n",
       "                          driver_id                           taxi_id  \\\n",
       "0  583949a89a9ee17d19e3ca4f137b6b4c  b12f4f09c783e29fe0d0ea624530db56   \n",
       "1                               NaN                               NaN   \n",
       "\n",
       "        icon start_type             start_at     start_lat     start_lon  \\\n",
       "0  executive       asap  2010-11-16 16:44:00  -12,13983536  -77,02355957   \n",
       "1  executive       asap  2010-06-01 00:34:00  -12,13874817  -76,99536133   \n",
       "\n",
       "               end_at       end_lat       end_lon  end_state driver_start_lat  \\\n",
       "0 2010-11-16 17:29:00  -12,05537033   -77,0413208   drop off     -12,10825481   \n",
       "1 2010-06-01 00:37:00  -12,12465668  -77,02886963  not found              NaN   \n",
       "\n",
       "  driver_start_lon          arrived_at  source  driver_score  rider_score  \n",
       "0      -77,0272739 2010-11-16 17:02:00  iPhone           5.0          5.0  \n",
       "1              NaN                 NaT  iPhone           NaN          NaN  "
      ]
     },
     "execution_count": 7,
     "metadata": {},
     "output_type": "execute_result"
    }
   ],
   "source": [
    "taxi = pd.read_csv('3_taxi_peru.csv', sep=';',parse_dates=['end_at','arrived_at'])\n",
    "taxi.head(2)"
   ]
  },
  {
   "cell_type": "code",
   "execution_count": 8,
   "metadata": {},
   "outputs": [
    {
     "data": {
      "text/plain": [
       "journey_id                  object\n",
       "user_id                     object\n",
       "driver_id                   object\n",
       "taxi_id                     object\n",
       "icon                        object\n",
       "start_type                  object\n",
       "start_at            datetime64[ns]\n",
       "start_lat                   object\n",
       "start_lon                   object\n",
       "end_at              datetime64[ns]\n",
       "end_lat                     object\n",
       "end_lon                     object\n",
       "end_state                   object\n",
       "driver_start_lat            object\n",
       "driver_start_lon            object\n",
       "arrived_at          datetime64[ns]\n",
       "source                      object\n",
       "driver_score               float64\n",
       "rider_score                float64\n",
       "dtype: object"
      ]
     },
     "execution_count": 8,
     "metadata": {},
     "output_type": "execute_result"
    }
   ],
   "source": [
    "taxi['start_at'] = pd.to_datetime(taxi['start_at'])\n",
    "taxi.dtypes          "
   ]
  },
  {
   "cell_type": "markdown",
   "metadata": {},
   "source": [
    "Now we see that all that columns in `datetime64` format"
   ]
  },
  {
   "cell_type": "markdown",
   "metadata": {},
   "source": [
    "Check which *platform* **(source)** had the most orders. Provide the answer as a percentage rounded to the nearest integer"
   ]
  },
  {
   "cell_type": "code",
   "execution_count": 9,
   "metadata": {},
   "outputs": [
    {
     "data": {
      "text/plain": [
       "array(['iPhone', 'Android', 'web', 'iPad', nan, 'Wap'], dtype=object)"
      ]
     },
     "execution_count": 9,
     "metadata": {},
     "output_type": "execute_result"
    }
   ],
   "source": [
    "taxi.source.unique()"
   ]
  },
  {
   "cell_type": "code",
   "execution_count": 10,
   "metadata": {},
   "outputs": [
    {
     "name": "stdout",
     "output_type": "stream",
     "text": [
      "9741\n",
      "22988\n",
      "42.37\n"
     ]
    }
   ],
   "source": [
    "a = taxi['source'].value_counts().max()\n",
    "b = taxi.source.count()\n",
    "d = a / b * 100\n",
    "\n",
    "print(a)\n",
    "print(b)\n",
    "print(round(d,2))  "
   ]
  },
  {
   "cell_type": "markdown",
   "metadata": {},
   "source": [
    "Answer - **42.37%**"
   ]
  },
  {
   "cell_type": "markdown",
   "metadata": {},
   "source": [
    "To make the difference more visual, let's try to visualize the indicators.\n",
    "\n",
    "Aggregate the data and create a bar chart with the platform names (**source**) on the x-axis and the number of orders (**absolute values**) on the y-axis"
   ]
  },
  {
   "cell_type": "code",
   "execution_count": 11,
   "metadata": {},
   "outputs": [
    {
     "data": {
      "text/html": [
       "<div>\n",
       "<style scoped>\n",
       "    .dataframe tbody tr th:only-of-type {\n",
       "        vertical-align: middle;\n",
       "    }\n",
       "\n",
       "    .dataframe tbody tr th {\n",
       "        vertical-align: top;\n",
       "    }\n",
       "\n",
       "    .dataframe thead th {\n",
       "        text-align: right;\n",
       "    }\n",
       "</style>\n",
       "<table border=\"1\" class=\"dataframe\">\n",
       "  <thead>\n",
       "    <tr style=\"text-align: right;\">\n",
       "      <th></th>\n",
       "      <th>source</th>\n",
       "      <th>journey_id</th>\n",
       "    </tr>\n",
       "  </thead>\n",
       "  <tbody>\n",
       "    <tr>\n",
       "      <th>3</th>\n",
       "      <td>iPhone</td>\n",
       "      <td>9741</td>\n",
       "    </tr>\n",
       "    <tr>\n",
       "      <th>4</th>\n",
       "      <td>web</td>\n",
       "      <td>7631</td>\n",
       "    </tr>\n",
       "    <tr>\n",
       "      <th>0</th>\n",
       "      <td>Android</td>\n",
       "      <td>4909</td>\n",
       "    </tr>\n",
       "    <tr>\n",
       "      <th>2</th>\n",
       "      <td>iPad</td>\n",
       "      <td>571</td>\n",
       "    </tr>\n",
       "    <tr>\n",
       "      <th>1</th>\n",
       "      <td>Wap</td>\n",
       "      <td>136</td>\n",
       "    </tr>\n",
       "  </tbody>\n",
       "</table>\n",
       "</div>"
      ],
      "text/plain": [
       "    source  journey_id\n",
       "3   iPhone        9741\n",
       "4      web        7631\n",
       "0  Android        4909\n",
       "2     iPad         571\n",
       "1      Wap         136"
      ]
     },
     "execution_count": 11,
     "metadata": {},
     "output_type": "execute_result"
    }
   ],
   "source": [
    "barchart = taxi.groupby(\"source\", as_index = False)  \\\n",
    "               .agg({'journey_id':'count'}) \\\n",
    "               .sort_values(by='journey_id',ascending=False)\n",
    "barchart"
   ]
  },
  {
   "cell_type": "code",
   "execution_count": 12,
   "metadata": {},
   "outputs": [
    {
     "data": {
      "image/png": "[encoded data removed]",
      "text/plain": [
       "<Figure size 640x480 with 1 Axes>"
      ]
     },
     "metadata": {},
     "output_type": "display_data"
    }
   ],
   "source": [
    "ax = sns.barplot(x='source', y='journey_id', data=barchart, color='#115f9a', alpha=0.85 )\n",
    "ax.set(xlabel='Source', ylabel='Number of orders')\n",
    "sns.despine # remove the frame\n",
    "plt.show()"
   ]
  },
  {
   "cell_type": "markdown",
   "metadata": {},
   "source": [
    "Let's try to create a more complex chart!\n",
    "\n",
    "Using `sns.countplot` and the hue parameter, visualize the distribution of the end_state variable (order final state) by platform (**source**).\n",
    "\n",
    "In other words, on the x-axis, place the platform, and use the order state as color. Then select the correct statements."
   ]
  },
  {
   "cell_type": "code",
   "execution_count": 15,
   "metadata": {},
   "outputs": [
    {
     "data": {
      "text/plain": [
       "<AxesSubplot:xlabel='source', ylabel='count'>"
      ]
     },
     "execution_count": 15,
     "metadata": {},
     "output_type": "execute_result"
    },
    {
     "data": {
      "image/png": "[encoded data removed]",
      "text/plain": [
       "<Figure size 640x480 with 1 Axes>"
      ]
     },
     "metadata": {},
     "output_type": "display_data"
    }
   ],
   "source": [
    "sns.set_palette([\"#fd7f6f\", \"#7eb0d5\", \"#b2e061\", \"#bd7ebe\", \"#ffb55a\", \"#ffee65\"])\n",
    "sns.barplot(x = 'source', y = 'journey_id', data = barchart)\n",
    "sns.countplot(x = 'source', hue = 'end_state', data = taxi)"
   ]
  },
  {
   "cell_type": "markdown",
   "metadata": {},
   "source": [
    "Let's calculate driver score, and after that visualize it"
   ]
  },
  {
   "cell_type": "code",
   "execution_count": 17,
   "metadata": {},
   "outputs": [
    {
     "data": {
      "text/html": [
       "<div>\n",
       "<style scoped>\n",
       "    .dataframe tbody tr th:only-of-type {\n",
       "        vertical-align: middle;\n",
       "    }\n",
       "\n",
       "    .dataframe tbody tr th {\n",
       "        vertical-align: top;\n",
       "    }\n",
       "\n",
       "    .dataframe thead th {\n",
       "        text-align: right;\n",
       "    }\n",
       "</style>\n",
       "<table border=\"1\" class=\"dataframe\">\n",
       "  <thead>\n",
       "    <tr style=\"text-align: right;\">\n",
       "      <th></th>\n",
       "      <th>driver_score</th>\n",
       "      <th>percentage</th>\n",
       "    </tr>\n",
       "  </thead>\n",
       "  <tbody>\n",
       "    <tr>\n",
       "      <th>2</th>\n",
       "      <td>0.0</td>\n",
       "      <td>14.30</td>\n",
       "    </tr>\n",
       "    <tr>\n",
       "      <th>4</th>\n",
       "      <td>1.0</td>\n",
       "      <td>1.23</td>\n",
       "    </tr>\n",
       "    <tr>\n",
       "      <th>5</th>\n",
       "      <td>2.0</td>\n",
       "      <td>0.81</td>\n",
       "    </tr>\n",
       "    <tr>\n",
       "      <th>3</th>\n",
       "      <td>3.0</td>\n",
       "      <td>2.97</td>\n",
       "    </tr>\n",
       "    <tr>\n",
       "      <th>1</th>\n",
       "      <td>4.0</td>\n",
       "      <td>21.88</td>\n",
       "    </tr>\n",
       "    <tr>\n",
       "      <th>0</th>\n",
       "      <td>5.0</td>\n",
       "      <td>58.81</td>\n",
       "    </tr>\n",
       "  </tbody>\n",
       "</table>\n",
       "</div>"
      ],
      "text/plain": [
       "   driver_score  percentage\n",
       "2           0.0       14.30\n",
       "4           1.0        1.23\n",
       "5           2.0        0.81\n",
       "3           3.0        2.97\n",
       "1           4.0       21.88\n",
       "0           5.0       58.81"
      ]
     },
     "execution_count": 17,
     "metadata": {},
     "output_type": "execute_result"
    }
   ],
   "source": [
    "driver_score_counts = taxi.groupby(['driver_score','journey_id'], as_index = False ) \\\n",
    "                          .agg({'journey_id': 'count'}) \\\n",
    "                          .value_counts(normalize = True).mul(100).round(2) \\\n",
    "                          .reset_index() \\\n",
    "                          .rename(columns = {0: 'percentage'})  \\\n",
    "                          .sort_values('driver_score', ascending = True) \\\n",
    "                          .drop('journey_id', axis=1)\n",
    "driver_score_counts                        "
   ]
  },
  {
   "cell_type": "code",
   "execution_count": 18,
   "metadata": {},
   "outputs": [
    {
     "data": {
      "image/png": "[encoded data removed]",
      "text/plain": [
       "<Figure size 640x480 with 1 Axes>"
      ]
     },
     "metadata": {},
     "output_type": "display_data"
    }
   ],
   "source": [
    "# alpha parameter takes an integer between 0 and 1 and specifies the transparency of each histogram:\n",
    "ax = sns.barplot(x='driver_score', y='percentage', data=driver_score_counts, color = 'red', alpha = 0.55)\n",
    "ax.set(xlabel='Driver score', ylabel='Percentage')\n",
    "sns.despine()  \n",
    "plt.show()"
   ]
  },
  {
   "cell_type": "markdown",
   "metadata": {},
   "source": [
    " Сalculate the distribution of ratings among drivers as a percentage. With `.mul()` "
   ]
  },
  {
   "cell_type": "code",
   "execution_count": 20,
   "metadata": {},
   "outputs": [
    {
     "data": {
      "text/html": [
       "<div>\n",
       "<style scoped>\n",
       "    .dataframe tbody tr th:only-of-type {\n",
       "        vertical-align: middle;\n",
       "    }\n",
       "\n",
       "    .dataframe tbody tr th {\n",
       "        vertical-align: top;\n",
       "    }\n",
       "\n",
       "    .dataframe thead th {\n",
       "        text-align: right;\n",
       "    }\n",
       "</style>\n",
       "<table border=\"1\" class=\"dataframe\">\n",
       "  <thead>\n",
       "    <tr style=\"text-align: right;\">\n",
       "      <th></th>\n",
       "      <th>rider_score</th>\n",
       "      <th>percentage</th>\n",
       "    </tr>\n",
       "  </thead>\n",
       "  <tbody>\n",
       "    <tr>\n",
       "      <th>2</th>\n",
       "      <td>0.0</td>\n",
       "      <td>2.29</td>\n",
       "    </tr>\n",
       "    <tr>\n",
       "      <th>4</th>\n",
       "      <td>1.0</td>\n",
       "      <td>0.21</td>\n",
       "    </tr>\n",
       "    <tr>\n",
       "      <th>5</th>\n",
       "      <td>2.0</td>\n",
       "      <td>0.19</td>\n",
       "    </tr>\n",
       "    <tr>\n",
       "      <th>3</th>\n",
       "      <td>3.0</td>\n",
       "      <td>1.38</td>\n",
       "    </tr>\n",
       "    <tr>\n",
       "      <th>1</th>\n",
       "      <td>4.0</td>\n",
       "      <td>8.83</td>\n",
       "    </tr>\n",
       "    <tr>\n",
       "      <th>0</th>\n",
       "      <td>5.0</td>\n",
       "      <td>87.10</td>\n",
       "    </tr>\n",
       "  </tbody>\n",
       "</table>\n",
       "</div>"
      ],
      "text/plain": [
       "   rider_score  percentage\n",
       "2          0.0        2.29\n",
       "4          1.0        0.21\n",
       "5          2.0        0.19\n",
       "3          3.0        1.38\n",
       "1          4.0        8.83\n",
       "0          5.0       87.10"
      ]
     },
     "execution_count": 20,
     "metadata": {},
     "output_type": "execute_result"
    }
   ],
   "source": [
    "rider_score_counts = taxi.groupby(['rider_score','journey_id'], as_index = False ) \\\n",
    "                         .agg({'journey_id': 'count'}) \\\n",
    "                         .value_counts(normalize = True).mul(100).round(2) \\\n",
    "                         .reset_index() \\\n",
    "                         .rename(columns = {0: 'percentage'})  \\\n",
    "                         .sort_values('rider_score', ascending = True) \\\n",
    "                         .drop('journey_id', axis=1)\n",
    "rider_score_counts                        \n",
    " "
   ]
  },
  {
   "cell_type": "code",
   "execution_count": 21,
   "metadata": {},
   "outputs": [
    {
     "data": {
      "image/png": "[encoded data removed]",
      "text/plain": [
       "<Figure size 640x480 with 1 Axes>"
      ]
     },
     "metadata": {},
     "output_type": "display_data"
    }
   ],
   "source": [
    "ax = sns.barplot(x='rider_score', y='percentage', data=rider_score_counts, color = 'blue', alpha = 0.5)\n",
    "ax.set(xlabel='Rider_score', ylabel='Percentage')\n",
    "sns.despine() \n",
    "plt.show()"
   ]
  },
  {
   "cell_type": "markdown",
   "metadata": {},
   "source": [
    "Filter the data and keep only the observations with the order status of \"asap\" and \"reserved\" (start_type)"
   ]
  },
  {
   "cell_type": "code",
   "execution_count": 22,
   "metadata": {},
   "outputs": [
    {
     "data": {
      "text/html": [
       "<div>\n",
       "<style scoped>\n",
       "    .dataframe tbody tr th:only-of-type {\n",
       "        vertical-align: middle;\n",
       "    }\n",
       "\n",
       "    .dataframe tbody tr th {\n",
       "        vertical-align: top;\n",
       "    }\n",
       "\n",
       "    .dataframe thead th {\n",
       "        text-align: right;\n",
       "    }\n",
       "</style>\n",
       "<table border=\"1\" class=\"dataframe\">\n",
       "  <thead>\n",
       "    <tr style=\"text-align: right;\">\n",
       "      <th></th>\n",
       "      <th>journey_id</th>\n",
       "      <th>user_id</th>\n",
       "      <th>driver_id</th>\n",
       "      <th>taxi_id</th>\n",
       "      <th>icon</th>\n",
       "      <th>start_type</th>\n",
       "      <th>start_at</th>\n",
       "      <th>start_lat</th>\n",
       "      <th>start_lon</th>\n",
       "      <th>end_at</th>\n",
       "      <th>end_lat</th>\n",
       "      <th>end_lon</th>\n",
       "      <th>end_state</th>\n",
       "      <th>driver_start_lat</th>\n",
       "      <th>driver_start_lon</th>\n",
       "      <th>arrived_at</th>\n",
       "      <th>source</th>\n",
       "      <th>driver_score</th>\n",
       "      <th>rider_score</th>\n",
       "    </tr>\n",
       "  </thead>\n",
       "  <tbody>\n",
       "    <tr>\n",
       "      <th>0</th>\n",
       "      <td>23a1406fc6a11d866e3c82f22eed4d4c</td>\n",
       "      <td>0e9af5bbf1edfe591b54ecdfd7e91e26</td>\n",
       "      <td>583949a89a9ee17d19e3ca4f137b6b4c</td>\n",
       "      <td>b12f4f09c783e29fe0d0ea624530db56</td>\n",
       "      <td>executive</td>\n",
       "      <td>asap</td>\n",
       "      <td>2010-11-16 16:44:00</td>\n",
       "      <td>-12,13983536</td>\n",
       "      <td>-77,02355957</td>\n",
       "      <td>2010-11-16 17:29:00</td>\n",
       "      <td>-12,05537033</td>\n",
       "      <td>-77,0413208</td>\n",
       "      <td>drop off</td>\n",
       "      <td>-12,10825481</td>\n",
       "      <td>-77,0272739</td>\n",
       "      <td>2010-11-16 17:02:00</td>\n",
       "      <td>iPhone</td>\n",
       "      <td>5.0</td>\n",
       "      <td>5.0</td>\n",
       "    </tr>\n",
       "    <tr>\n",
       "      <th>1</th>\n",
       "      <td>dd2af4715d0dc16eded53afc0e243577</td>\n",
       "      <td>a553c46e3a22fb9c326aeb3d72b3334e</td>\n",
       "      <td>NaN</td>\n",
       "      <td>NaN</td>\n",
       "      <td>executive</td>\n",
       "      <td>asap</td>\n",
       "      <td>2010-06-01 00:34:00</td>\n",
       "      <td>-12,13874817</td>\n",
       "      <td>-76,99536133</td>\n",
       "      <td>2010-06-01 00:37:00</td>\n",
       "      <td>-12,12465668</td>\n",
       "      <td>-77,02886963</td>\n",
       "      <td>not found</td>\n",
       "      <td>NaN</td>\n",
       "      <td>NaN</td>\n",
       "      <td>NaT</td>\n",
       "      <td>iPhone</td>\n",
       "      <td>NaN</td>\n",
       "      <td>NaN</td>\n",
       "    </tr>\n",
       "    <tr>\n",
       "      <th>2</th>\n",
       "      <td>dd91e131888064bf7df3ce08f3d4b4ad</td>\n",
       "      <td>a553c46e3a22fb9c326aeb3d72b3334e</td>\n",
       "      <td>NaN</td>\n",
       "      <td>NaN</td>\n",
       "      <td>executive</td>\n",
       "      <td>asap</td>\n",
       "      <td>2010-05-31 05:01:00</td>\n",
       "      <td>-12,12453079</td>\n",
       "      <td>-77,02780151</td>\n",
       "      <td>2010-05-31 05:04:00</td>\n",
       "      <td>-12,13883209</td>\n",
       "      <td>-76,99530029</td>\n",
       "      <td>not found</td>\n",
       "      <td>NaN</td>\n",
       "      <td>NaN</td>\n",
       "      <td>NaT</td>\n",
       "      <td>iPhone</td>\n",
       "      <td>NaN</td>\n",
       "      <td>NaN</td>\n",
       "    </tr>\n",
       "  </tbody>\n",
       "</table>\n",
       "</div>"
      ],
      "text/plain": [
       "                         journey_id                           user_id  \\\n",
       "0  23a1406fc6a11d866e3c82f22eed4d4c  0e9af5bbf1edfe591b54ecdfd7e91e26   \n",
       "1  dd2af4715d0dc16eded53afc0e243577  a553c46e3a22fb9c326aeb3d72b3334e   \n",
       "2  dd91e131888064bf7df3ce08f3d4b4ad  a553c46e3a22fb9c326aeb3d72b3334e   \n",
       "\n",
       "                          driver_id                           taxi_id  \\\n",
       "0  583949a89a9ee17d19e3ca4f137b6b4c  b12f4f09c783e29fe0d0ea624530db56   \n",
       "1                               NaN                               NaN   \n",
       "2                               NaN                               NaN   \n",
       "\n",
       "        icon start_type            start_at     start_lat     start_lon  \\\n",
       "0  executive       asap 2010-11-16 16:44:00  -12,13983536  -77,02355957   \n",
       "1  executive       asap 2010-06-01 00:34:00  -12,13874817  -76,99536133   \n",
       "2  executive       asap 2010-05-31 05:01:00  -12,12453079  -77,02780151   \n",
       "\n",
       "               end_at       end_lat       end_lon  end_state driver_start_lat  \\\n",
       "0 2010-11-16 17:29:00  -12,05537033   -77,0413208   drop off     -12,10825481   \n",
       "1 2010-06-01 00:37:00  -12,12465668  -77,02886963  not found              NaN   \n",
       "2 2010-05-31 05:04:00  -12,13883209  -76,99530029  not found              NaN   \n",
       "\n",
       "  driver_start_lon          arrived_at  source  driver_score  rider_score  \n",
       "0      -77,0272739 2010-11-16 17:02:00  iPhone           5.0          5.0  \n",
       "1              NaN                 NaT  iPhone           NaN          NaN  \n",
       "2              NaN                 NaT  iPhone           NaN          NaN  "
      ]
     },
     "execution_count": 22,
     "metadata": {},
     "output_type": "execute_result"
    }
   ],
   "source": [
    "taxi = taxi.query('start_type == \"asap\" or start_type == \"reserved\"')\n",
    "taxi.head(3)"
   ]
  },
  {
   "cell_type": "markdown",
   "metadata": {},
   "source": [
    "Create a column wait_time, which will store the difference between the time the car arrived (arrived_at) and the order time (start_at) in minutes.\n",
    "\n",
    "To convert the result to minutes, you can use the method `.astype('timedelta64[m]')`"
   ]
  },
  {
   "cell_type": "code",
   "execution_count": 24,
   "metadata": {},
   "outputs": [
    {
     "data": {
      "text/plain": [
       "0    18.0\n",
       "1     NaN\n",
       "2     NaN\n",
       "Name: wait_time, dtype: float64"
      ]
     },
     "execution_count": 24,
     "metadata": {},
     "output_type": "execute_result"
    }
   ],
   "source": [
    "# calculating delays\n",
    "taxi['wait_time'] = taxi['arrived_at'] - taxi['start_at']\n",
    "\n",
    "# converting numbers to minutes\n",
    "taxi.wait_time = taxi.wait_time.astype('timedelta64[m]')\n",
    "taxi.wait_time.head(3)"
   ]
  },
  {
   "cell_type": "markdown",
   "metadata": {},
   "source": [
    "To see which drivers were late for orders at a certain time (`start_type == 'reserved')`, lateness is defined as wait_time > 0.0.\n",
    "\n",
    "Group the filtered data by **driver_id** and indicate the **driver_id** who was late for the desired type of order the greatest number of times as the answer"
   ]
  },
  {
   "cell_type": "code",
   "execution_count": 25,
   "metadata": {
    "scrolled": false
   },
   "outputs": [
    {
     "data": {
      "text/plain": [
       "'406921adcca37705ef527b4246c0cfea'"
      ]
     },
     "execution_count": 25,
     "metadata": {},
     "output_type": "execute_result"
    }
   ],
   "source": [
    "taxi.loc[(taxi.start_type == 'reserved') & (taxi.wait_time > 0)].driver_id.value_counts().idxmax()"
   ]
  },
  {
   "cell_type": "markdown",
   "metadata": {},
   "source": [
    "Add a column called **month**, which will store the number of the month in which the order was placed (**start_at**), and a column called **weekday** - the name of the day of the week"
   ]
  },
  {
   "cell_type": "code",
   "execution_count": 26,
   "metadata": {},
   "outputs": [
    {
     "data": {
      "text/plain": [
       "0     Tuesday\n",
       "1     Tuesday\n",
       "2      Monday\n",
       "3     Tuesday\n",
       "4    Saturday\n",
       "Name: weekday, dtype: object"
      ]
     },
     "execution_count": 26,
     "metadata": {},
     "output_type": "execute_result"
    }
   ],
   "source": [
    "taxi['month'] = taxi['start_at'].dt.month\n",
    "taxi['weekday'] = taxi['start_at']. \n",
    "taxi.weekday.head()"
   ]
  },
  {
   "cell_type": "markdown",
   "metadata": {},
   "source": [
    "Create a plot of the number of orders by month (month). Think about what could be the reason behind the observed pattern."
   ]
  },
  {
   "cell_type": "code",
   "execution_count": 31,
   "metadata": {},
   "outputs": [
    {
     "data": {
      "text/plain": [
       "[Text(0.5, 0, 'Month'), Text(0, 0.5, 'Orders')]"
      ]
     },
     "execution_count": 31,
     "metadata": {},
     "output_type": "execute_result"
    },
    {
     "data": {
      "image/png": "[encoded data removed]",
      "text/plain": [
       "<Figure size 640x480 with 1 Axes>"
      ]
     },
     "metadata": {},
     "output_type": "display_data"
    }
   ],
   "source": [
    "month_count =  taxi.groupby(['month'], as_index = False ) \\\n",
    "                        .agg({'journey_id': 'count'}) \\\n",
    "                        .value_counts(normalize = True).mul(100).round(2) \\\n",
    "                        .reset_index()   \\\n",
    "                        .sort_values('journey_id', ascending = True) \n",
    "\n",
    "\n",
    "ax = sns.barplot(x='month', y='journey_id', data=month_count, alpha = 0.6)\n",
    "ax.set(xlabel='Month', ylabel='Orders')"
   ]
  },
  {
   "cell_type": "markdown",
   "metadata": {},
   "source": [
    "Now let's plot a graph by days of the week (**weekday**). You can specify the order of the columns on the graph using the `order` argument, which should be passed a list of names in the desired order"
   ]
  },
  {
   "cell_type": "code",
   "execution_count": 41,
   "metadata": {},
   "outputs": [
    {
     "data": {
      "text/plain": [
       "[Text(0.5, 0, 'Month'), Text(0, 0.5, 'Orders')]"
      ]
     },
     "execution_count": 41,
     "metadata": {},
     "output_type": "execute_result"
    },
    {
     "data": {
      "image/png": "[encoded data removed]",
      "text/plain": [
       "<Figure size 640x480 with 1 Axes>"
      ]
     },
     "metadata": {},
     "output_type": "display_data"
    }
   ],
   "source": [
    "month_count =  taxi.groupby(['weekday'], as_index = False ) \\\n",
    "                   .agg({'journey_id': 'count'}) \\\n",
    "                   .value_counts(normalize = True).mul(100).round(2) \\\n",
    "                   .reset_index()   \\\n",
    "                   .sort_values('journey_id', ascending = True) \n",
    "\n",
    "# argument order for specified order in plot\n",
    "order = ['Monday', 'Tuesday', 'Wednesday', 'Thursday', 'Friday', 'Saturday', 'Sunday']\n",
    "ax = sns.barplot(x='weekday', y='journey_id', data=month_count, order=order, alpha = 0.6)\n",
    "ax.set(xlabel='Month', ylabel='Orders')"
   ]
  },
  {
   "cell_type": "markdown",
   "metadata": {},
   "source": [
    "Also, we can look at some simple metrics that show the number of unique users for a certain period:\n",
    "\n",
    "**DAU (daily active users)** - the number of unique users per day  \n",
    "**WAU (weekly active users)** - the number of unique users per week  \n",
    "**MAU (monthly active users)** - the number of unique users per month  \n",
    "Active users are those who have used the application and made at least one order during the selected period of time.   \n",
    "Plot the MAU graph and select the correct statements."
   ]
  },
  {
   "cell_type": "code",
   "execution_count": 56,
   "metadata": {
    "scrolled": false
   },
   "outputs": [
    {
     "data": {
      "text/plain": [
       "[Text(0.5, 0, 'Month'), Text(0, 0.5, 'Users')]"
      ]
     },
     "execution_count": 56,
     "metadata": {},
     "output_type": "execute_result"
    },
    {
     "data": {
      "image/png": "[encoded data removed]",
      "text/plain": [
       "<Figure size 640x480 with 1 Axes>"
      ]
     },
     "metadata": {},
     "output_type": "display_data"
    }
   ],
   "source": [
    "mau = taxi.groupby('month', as_index=False) \\\n",
    "          .agg({'user_id': 'nunique'}) \\\n",
    "          .rename(columns={'user_id': 'unique_users'})\n",
    "\n",
    "\n",
    "ax = sns.barplot(x='month', y='unique_users', data=mau, color='grey', alpha = 0.65)\n",
    "ax.set(xlabel='Month', ylabel='Users')"
   ]
  },
  {
   "cell_type": "code",
   "execution_count": 57,
   "metadata": {},
   "outputs": [
    {
     "data": {
      "text/plain": [
       "<AxesSubplot:>"
      ]
     },
     "execution_count": 57,
     "metadata": {},
     "output_type": "execute_result"
    },
    {
     "data": {
      "image/png": "[encoded data removed]",
      "text/plain": [
       "<Figure size 640x480 with 1 Axes>"
      ]
     },
     "metadata": {},
     "output_type": "display_data"
    }
   ],
   "source": [
    "mau = taxi.groupby(['month'], as_index = False).user_id.nunique()   \n",
    "mau.plot.line()"
   ]
  },
  {
   "cell_type": "markdown",
   "metadata": {},
   "source": [
    "THE END"
   ]
  }
 ],
 "metadata": {
  "kernelspec": {
   "display_name": "Python 3 (ipykernel)",
   "language": "python",
   "name": "python3"
  },
  "language_info": {
   "codemirror_mode": {
    "name": "ipython",
    "version": 3
   },
   "file_extension": ".py",
   "mimetype": "text/x-python",
   "name": "python",
   "nbconvert_exporter": "python",
   "pygments_lexer": "ipython3",
   "version": "3.9.13"
  }
 },
 "nbformat": 4,
 "nbformat_minor": 4
}
